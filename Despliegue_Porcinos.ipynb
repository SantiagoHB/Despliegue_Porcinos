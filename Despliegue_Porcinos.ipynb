{
  "nbformat": 4,
  "nbformat_minor": 0,
  "metadata": {
    "colab": {
      "provenance": []
    },
    "kernelspec": {
      "name": "python3",
      "display_name": "Python 3"
    },
    "language_info": {
      "name": "python"
    }
  },
  "cells": [
    {
      "cell_type": "markdown",
      "source": [
        "##Hecho por **Santiago Leonardo Hernandez Beltran**"
      ],
      "metadata": {
        "id": "A4RdcwpbU4bm"
      }
    },
    {
      "cell_type": "code",
      "source": [
        "%pip install streamlit"
      ],
      "metadata": {
        "colab": {
          "base_uri": "https://localhost:8080/"
        },
        "id": "JaxEFdNosVku",
        "outputId": "d5b50d12-3a44-4ab9-caed-9057e6737324"
      },
      "execution_count": null,
      "outputs": [
        {
          "output_type": "stream",
          "name": "stdout",
          "text": [
            "Collecting streamlit\n",
            "  Downloading streamlit-1.50.0-py3-none-any.whl.metadata (9.5 kB)\n",
            "Requirement already satisfied: altair!=5.4.0,!=5.4.1,<6,>=4.0 in /usr/local/lib/python3.12/dist-packages (from streamlit) (5.5.0)\n",
            "Requirement already satisfied: blinker<2,>=1.5.0 in /usr/local/lib/python3.12/dist-packages (from streamlit) (1.9.0)\n",
            "Requirement already satisfied: cachetools<7,>=4.0 in /usr/local/lib/python3.12/dist-packages (from streamlit) (5.5.2)\n",
            "Requirement already satisfied: click<9,>=7.0 in /usr/local/lib/python3.12/dist-packages (from streamlit) (8.2.1)\n",
            "Requirement already satisfied: numpy<3,>=1.23 in /usr/local/lib/python3.12/dist-packages (from streamlit) (2.0.2)\n",
            "Requirement already satisfied: packaging<26,>=20 in /usr/local/lib/python3.12/dist-packages (from streamlit) (25.0)\n",
            "Requirement already satisfied: pandas<3,>=1.4.0 in /usr/local/lib/python3.12/dist-packages (from streamlit) (2.2.2)\n",
            "Requirement already satisfied: pillow<12,>=7.1.0 in /usr/local/lib/python3.12/dist-packages (from streamlit) (11.3.0)\n",
            "Requirement already satisfied: protobuf<7,>=3.20 in /usr/local/lib/python3.12/dist-packages (from streamlit) (5.29.5)\n",
            "Requirement already satisfied: pyarrow>=7.0 in /usr/local/lib/python3.12/dist-packages (from streamlit) (18.1.0)\n",
            "Requirement already satisfied: requests<3,>=2.27 in /usr/local/lib/python3.12/dist-packages (from streamlit) (2.32.4)\n",
            "Requirement already satisfied: tenacity<10,>=8.1.0 in /usr/local/lib/python3.12/dist-packages (from streamlit) (8.5.0)\n",
            "Requirement already satisfied: toml<2,>=0.10.1 in /usr/local/lib/python3.12/dist-packages (from streamlit) (0.10.2)\n",
            "Requirement already satisfied: typing-extensions<5,>=4.4.0 in /usr/local/lib/python3.12/dist-packages (from streamlit) (4.15.0)\n",
            "Requirement already satisfied: watchdog<7,>=2.1.5 in /usr/local/lib/python3.12/dist-packages (from streamlit) (6.0.0)\n",
            "Requirement already satisfied: gitpython!=3.1.19,<4,>=3.0.7 in /usr/local/lib/python3.12/dist-packages (from streamlit) (3.1.45)\n",
            "Collecting pydeck<1,>=0.8.0b4 (from streamlit)\n",
            "  Downloading pydeck-0.9.1-py2.py3-none-any.whl.metadata (4.1 kB)\n",
            "Requirement already satisfied: tornado!=6.5.0,<7,>=6.0.3 in /usr/local/lib/python3.12/dist-packages (from streamlit) (6.4.2)\n",
            "Requirement already satisfied: jinja2 in /usr/local/lib/python3.12/dist-packages (from altair!=5.4.0,!=5.4.1,<6,>=4.0->streamlit) (3.1.6)\n",
            "Requirement already satisfied: jsonschema>=3.0 in /usr/local/lib/python3.12/dist-packages (from altair!=5.4.0,!=5.4.1,<6,>=4.0->streamlit) (4.25.1)\n",
            "Requirement already satisfied: narwhals>=1.14.2 in /usr/local/lib/python3.12/dist-packages (from altair!=5.4.0,!=5.4.1,<6,>=4.0->streamlit) (2.5.0)\n",
            "Requirement already satisfied: gitdb<5,>=4.0.1 in /usr/local/lib/python3.12/dist-packages (from gitpython!=3.1.19,<4,>=3.0.7->streamlit) (4.0.12)\n",
            "Requirement already satisfied: python-dateutil>=2.8.2 in /usr/local/lib/python3.12/dist-packages (from pandas<3,>=1.4.0->streamlit) (2.9.0.post0)\n",
            "Requirement already satisfied: pytz>=2020.1 in /usr/local/lib/python3.12/dist-packages (from pandas<3,>=1.4.0->streamlit) (2025.2)\n",
            "Requirement already satisfied: tzdata>=2022.7 in /usr/local/lib/python3.12/dist-packages (from pandas<3,>=1.4.0->streamlit) (2025.2)\n",
            "Requirement already satisfied: charset_normalizer<4,>=2 in /usr/local/lib/python3.12/dist-packages (from requests<3,>=2.27->streamlit) (3.4.3)\n",
            "Requirement already satisfied: idna<4,>=2.5 in /usr/local/lib/python3.12/dist-packages (from requests<3,>=2.27->streamlit) (3.10)\n",
            "Requirement already satisfied: urllib3<3,>=1.21.1 in /usr/local/lib/python3.12/dist-packages (from requests<3,>=2.27->streamlit) (2.5.0)\n",
            "Requirement already satisfied: certifi>=2017.4.17 in /usr/local/lib/python3.12/dist-packages (from requests<3,>=2.27->streamlit) (2025.8.3)\n",
            "Requirement already satisfied: smmap<6,>=3.0.1 in /usr/local/lib/python3.12/dist-packages (from gitdb<5,>=4.0.1->gitpython!=3.1.19,<4,>=3.0.7->streamlit) (5.0.2)\n",
            "Requirement already satisfied: MarkupSafe>=2.0 in /usr/local/lib/python3.12/dist-packages (from jinja2->altair!=5.4.0,!=5.4.1,<6,>=4.0->streamlit) (3.0.2)\n",
            "Requirement already satisfied: attrs>=22.2.0 in /usr/local/lib/python3.12/dist-packages (from jsonschema>=3.0->altair!=5.4.0,!=5.4.1,<6,>=4.0->streamlit) (25.3.0)\n",
            "Requirement already satisfied: jsonschema-specifications>=2023.03.6 in /usr/local/lib/python3.12/dist-packages (from jsonschema>=3.0->altair!=5.4.0,!=5.4.1,<6,>=4.0->streamlit) (2025.9.1)\n",
            "Requirement already satisfied: referencing>=0.28.4 in /usr/local/lib/python3.12/dist-packages (from jsonschema>=3.0->altair!=5.4.0,!=5.4.1,<6,>=4.0->streamlit) (0.36.2)\n",
            "Requirement already satisfied: rpds-py>=0.7.1 in /usr/local/lib/python3.12/dist-packages (from jsonschema>=3.0->altair!=5.4.0,!=5.4.1,<6,>=4.0->streamlit) (0.27.1)\n",
            "Requirement already satisfied: six>=1.5 in /usr/local/lib/python3.12/dist-packages (from python-dateutil>=2.8.2->pandas<3,>=1.4.0->streamlit) (1.17.0)\n",
            "Downloading streamlit-1.50.0-py3-none-any.whl (10.1 MB)\n",
            "\u001b[2K   \u001b[90m━━━━━━━━━━━━━━━━━━━━━━━━━━━━━━━━━━━━━━━━\u001b[0m \u001b[32m10.1/10.1 MB\u001b[0m \u001b[31m47.6 MB/s\u001b[0m eta \u001b[36m0:00:00\u001b[0m\n",
            "\u001b[?25hDownloading pydeck-0.9.1-py2.py3-none-any.whl (6.9 MB)\n",
            "\u001b[2K   \u001b[90m━━━━━━━━━━━━━━━━━━━━━━━━━━━━━━━━━━━━━━━━\u001b[0m \u001b[32m6.9/6.9 MB\u001b[0m \u001b[31m97.3 MB/s\u001b[0m eta \u001b[36m0:00:00\u001b[0m\n",
            "\u001b[?25hInstalling collected packages: pydeck, streamlit\n",
            "Successfully installed pydeck-0.9.1 streamlit-1.50.0\n"
          ]
        }
      ]
    },
    {
      "cell_type": "code",
      "source": [
        "%pip install pyngrok"
      ],
      "metadata": {
        "colab": {
          "base_uri": "https://localhost:8080/"
        },
        "id": "G8crXYVgGfL6",
        "outputId": "6b54279c-3cf5-45ca-ac8d-013becec04a4"
      },
      "execution_count": null,
      "outputs": [
        {
          "output_type": "stream",
          "name": "stdout",
          "text": [
            "Collecting pyngrok\n",
            "  Downloading pyngrok-7.4.0-py3-none-any.whl.metadata (8.1 kB)\n",
            "Requirement already satisfied: PyYAML>=5.1 in /usr/local/lib/python3.12/dist-packages (from pyngrok) (6.0.2)\n",
            "Downloading pyngrok-7.4.0-py3-none-any.whl (25 kB)\n",
            "Installing collected packages: pyngrok\n",
            "Successfully installed pyngrok-7.4.0\n"
          ]
        }
      ]
    },
    {
      "cell_type": "code",
      "execution_count": 23,
      "metadata": {
        "colab": {
          "base_uri": "https://localhost:8080/"
        },
        "id": "-pWo-pK_sCrW",
        "outputId": "5cb22f8e-a0ca-4732-c469-96ce1c9bd56c"
      },
      "outputs": [
        {
          "output_type": "stream",
          "name": "stdout",
          "text": [
            "Overwriting app.py\n"
          ]
        }
      ],
      "source": [
        "%%writefile app.py\n",
        "import streamlit as st\n",
        "import pandas as pd\n",
        "import pickle\n",
        "\n",
        "# =====================\n",
        "# 1. CARGA DE OBJETOS ENTRENADOS\n",
        "# =====================\n",
        "with open(\"modelo.pkl\", \"rb\") as f:\n",
        "    modelo = pickle.load(f)\n",
        "\n",
        "# NO necesitamos label_encoders, este es para la variable objetivo Patologia en entrenamiento\n",
        "# pero no en inferencia\n",
        "\n",
        "with open(\"tc.pkl\", \"rb\") as f:\n",
        "    train_columns = pickle.load(f)\n",
        "\n",
        "with open(\"sc.pkl\", \"rb\") as f:\n",
        "    scaler = pickle.load(f)\n",
        "\n",
        "# =====================\n",
        "# 2. INTERFAZ GRÁFICA\n",
        "# =====================\n",
        "st.title(\"Predicción de Patología en Muestras\")\n",
        "st.write(\"Ingresa los datos de la muestra para predecir si está Enfermo o No Enfermo.\")\n",
        "\n",
        "sexo = st.selectbox(\"Sexo\", [\"M\", \"H\"])\n",
        "profundidad = st.number_input(\"Profundidad (mm)\", min_value=0.0, step=0.1)\n",
        "pesokg = st.number_input(\"Peso (kg)\", min_value=50.0, step=0.1)\n",
        "porcentajemagro = st.number_input(\"Porcentaje Magro (%)\", min_value=0.0, max_value=100.0, step=0.1)\n",
        "\n",
        "departamentos = [\n",
        "    \"Cundinamarca\", \"Meta\", \"Antioquia\", \"Boyaca\", \"Casanare\",\n",
        "    \"Caldas\", \"Tolima\", \"Santander\", \"Valle del Cauca\", \"Guaviare\",\n",
        "    \"Arauca\", \"Risaralda\", \"Caqueta\", \"Quindio\", \"Huila\",\n",
        "    \"Cauca\", \"Cesar\"\n",
        "]\n",
        "Departamento = st.selectbox(\"Departamento\", departamentos)\n",
        "\n",
        "Mes = st.selectbox(\"Mes\", list(range(1, 13)))\n",
        "\n",
        "# =====================\n",
        "# 3. CREACIÓN DE DATAFRAME\n",
        "# =====================\n",
        "datos = [[sexo, profundidad, pesokg, porcentajemagro, Departamento, Mes]]\n",
        "data_input = pd.DataFrame(datos, columns=['sexo','profundidad','pesokg',\n",
        "                                         'porcentajemagro','Departamento','Mes'])\n",
        "\n",
        "st.write(\"📋 **Datos capturados:**\")\n",
        "st.dataframe(data_input)\n",
        "\n",
        "# =====================\n",
        "# 4. PREPROCESAMIENTO Y PREDICCIÓN\n",
        "# =====================\n",
        "if st.button(\"Predecir\"):\n",
        "    try:\n",
        "        # --- GENERAR DUMMIES Y REORDENAR COLUMNAS ---\n",
        "        data_preparada = pd.get_dummies(data_input)\n",
        "        data_preparada = data_preparada.reindex(columns=train_columns, fill_value=0)\n",
        "\n",
        "        # --- ESCALAR DATOS ---\n",
        "        data_preparada_scaled = scaler.transform(data_preparada)\n",
        "\n",
        "        # --- PREDICCIÓN ---\n",
        "        prediccion = modelo.predict(data_preparada_scaled)\n",
        "\n",
        "        # Mostrar el resultado y el valor de la predicción\n",
        "        valor_pred = prediccion[0]  # normalmente es 0 o 1\n",
        "        resultado = \"🟢 Sano\" if valor_pred == 0 else \"🔴 Enfermo\"\n",
        "\n",
        "        st.success(f\"Resultado de la predicción: **{resultado}** (Valor predicho: {valor_pred})\")\n",
        "\n",
        "    except Exception as e:\n",
        "        st.error(f\"Ocurrió un error al predecir: {e}\")\n",
        "\n"
      ]
    },
    {
      "cell_type": "code",
      "source": [
        "\n",
        "\n",
        "from pyngrok import ngrok\n",
        "import os\n",
        "from dotenv import load_dotenv\n",
        "import streamlit as st\n",
        "\n",
        "# =====================\n",
        "# 1. CARGA DEL .ENV\n",
        "# =====================\n",
        "load_dotenv()  # Carga las variables del archivo .env en el entorno\n",
        "\n",
        "# Acceder a las variables\n",
        "TOKEN = '2nY1jlwQNBrGYkWRhDyUkradjP1_3HzLUNStUacuMCoaAvDmW'\n",
        "#3. Configurar el token en ngrok\n",
        "ngrok.set_auth_token(TOKEN)\n",
        "\n",
        "public_url = ngrok.connect(8501)\n",
        "print(\"URL público:\", public_url)\n",
        "\n",
        "!streamlit run app.py --server.port 8501 &>/dev/null&\n"
      ],
      "metadata": {
        "colab": {
          "base_uri": "https://localhost:8080/"
        },
        "id": "K1CUz3DCs8wR",
        "outputId": "39f8d87c-7e0a-42bf-ef22-0df8515b2991"
      },
      "execution_count": 11,
      "outputs": [
        {
          "output_type": "stream",
          "name": "stdout",
          "text": [
            "URL público: NgrokTunnel: \"https://ae30ab52b8a6.ngrok-free.app\" -> \"http://localhost:8501\"\n"
          ]
        }
      ]
    },
    {
      "cell_type": "code",
      "source": [
        "!kill -9 $(lsof -t -i:8501)"
      ],
      "metadata": {
        "id": "xv78KhunvVhu"
      },
      "execution_count": 10,
      "outputs": []
    }
  ]
}